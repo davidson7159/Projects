{
 "cells": [
  {
   "cell_type": "markdown",
   "id": "3dd2f27e",
   "metadata": {},
   "source": [
    "# Conférences Python Master TIDE #1\n",
    "\n",
    "## Librairie pandas\n",
    "\n",
    "Dataset des communes françaises : `correspondance-code-insee-code-postal.csv`\n",
    "\n",
    "0) Import\n",
    "- Importer la librairie pandas\n",
    "- Utiliser l'option suivante\n",
    "```python\n",
    "pd.set_option(\"display.min_rows\", 16)\n",
    "```\n",
    "\n",
    "1) Ecrire une fonction qui charge le fichier CSV\n",
    "- Uniquement les 11 premières colonnes\n",
    "- Utiliser la colonne \"Code INSEE\" comme index\n",
    "- Trier selon l'index\n",
    "- Pour vérifier, exécuter les tests unitaires\n",
    "\n",
    "```python\n",
    "def lecture_geo():\n",
    "    pass\n",
    "```\n",
    "\n",
    "2) Questions\n",
    "- Combien y a-t-il de départements ?\n",
    "- Quelle commune est la plus haute ?\n",
    "- Quelle commune est la plus peuplée ?\n",
    "- Quelle commune a le nom le plus court ?\n",
    "- Quelle commune a le nom le plus long ?\n",
    "- Quel est le nom de commune le plus fréquent ?\n",
    "- Ecrire une fonction qui recherche les communes se terminant par un motif du type \"-mot1-mot2\" (par exemple \"-SUR-MER\")\n",
    "```python\n",
    "def selection(mot1, mot2):\n",
    "    pass\n",
    "```\n",
    "- Quelles villes contiennent deux \"Z\" (accolés, séparés par une seule lettre, séparés par un nombre quelconque de lettres, séparés par au moins une lettre) ?\n",
    "- Quelles sont les dix terminaisons des noms de communes du type \"-mot1-mot2\" les plus fréquentes ?\n",
    "\n",
    "3) Transformations\n",
    "- Passer la colonne \"Superficie\" en km²\n",
    "- Passer la colonne \"Altitude Moyenne\" en entiers\n",
    "- Modifier la colonne \"Statut\" en categorie ordonnée\n",
    "\n",
    "4) Géographie\n",
    "- Créer une colonne \"CP Ville\" à partir du code postal et du nom de chaque commune\n",
    "- Extraire la latitude et la longitude de la colonne \"geo_point_2d\"\n",
    "- Ecrire une fonction qui retourne le \"CP Ville\" de la commune la plus proche d'une latitude et d'une longitude\n",
    "```python\n",
    "def ville(lat, long):\n",
    "    pass\n",
    "```\n",
    "- Ecrire une fonction qui transforme des coordonnées GPS (en degrés, minutes et secondes) en coordonnées décimales\n",
    "```python\n",
    "def gps2dec(deg, mn, sec):\n",
    "    pass\n",
    "```\n",
    "- Choisir une petite commune française sur Wikipédia et vérifier qu'elle est trouvée à partir de ces coordonnnées GPS en utilisant les 2 fonctions définies\n",
    "\n",
    "5) Géométrie\n",
    "- Décoder les données JSON de la colonne \"geo_shape\"\n",
    "- Donner le décompte des différentes valeurs associées à la clé \"type\"\n",
    "- Donner le décompte des longueurs des listes associées à la clé \"coordinates\"\n",
    "- Quelles sont les \"CP Ville\" des communes de type \"Polygon\" et dont la longueur des listes accédées avec la clé \"coordinates\" vaut 2 ?\n",
    "\n",
    "6) Graphiques\n",
    "- Afficher un histogramme avec les longueurs des noms des communes\n",
    "- Afficher un graphique de type scatterplot à partir des coordonnées des communes\n",
    "- Trouver une condition pour limiter le dataset à la France métropolitaine et afficher un graphique\n",
    "- Mettre toutes les communes à moins de 1000m en bleu et celle à plus de 1000m en rouge\n",
    "- Afficher un graphique de type scatterplot dans lequel les communes se terminant par un motif du type \"-mot1-mot2\" sont mis dans une autre couleur\n",
    "- Afficher un graphique de type scatterplot dans lequel la couleur utilisée dépend de la colonne \"Altitude moyenne\" selon la colormap \"Spectral_r\"\n",
    "- Afficher une carte de France métropolitaine avec les préfectures de région et leur nom, en corrigeant celles qui sont des arrondissements de Paris, Lyon ou Marseille.\n",
    "\n",
    "&copy; Francis Wolinski 2024"
   ]
  },
  {
   "cell_type": "code",
   "execution_count": 2,
   "id": "3e510141-7b75-42d1-be08-06c81442f881",
   "metadata": {},
   "outputs": [],
   "source": [
    "import pandas as pd"
   ]
  },
  {
   "cell_type": "code",
   "execution_count": null,
   "id": "0f5735be-7039-4fd6-85d0-f43aca12d827",
   "metadata": {},
   "outputs": [],
   "source": [
    "def lecture_geo():\n",
    "    df = pd.read_csv(\"data/correspondance-code-insee-code-postal.csv\",\n",
    "                     sep=\";\",\n",
    "                     index_col=\"Code INSEE\",\n",
    "                     usecols=range(11)\n",
    "                    )\n",
    "    df = df.sort_index()\n",
    "    return df"
   ]
  },
  {
   "cell_type": "code",
   "execution_count": 3,
   "id": "baf50956-a074-40f9-83c9-ed77f0e3b920",
   "metadata": {},
   "outputs": [],
   "source": [
    "def lecture_geo():\n",
    "    df = (pd.read_csv(\"data/correspondance-code-insee-code-postal.csv\",\n",
    "                     sep=\";\",\n",
    "                     index_col=\"Code INSEE\",\n",
    "                     usecols=range(11)\n",
    "                    )\n",
    "          .sort_index()\n",
    "         )\n",
    "    return df"
   ]
  },
  {
   "cell_type": "code",
   "execution_count": 8,
   "id": "5a01a9d1-2de5-4ca8-99f4-e684daab2baa",
   "metadata": {},
   "outputs": [],
   "source": [
    "df = lecture_geo()"
   ]
  },
  {
   "cell_type": "code",
   "execution_count": 9,
   "id": "27005016-4b44-4c19-92da-36510a909215",
   "metadata": {},
   "outputs": [
    {
     "name": "stdout",
     "output_type": "stream",
     "text": [
      "<class 'pandas.core.frame.DataFrame'>\n",
      "Index: 36742 entries, 01001 to 97617\n",
      "Data columns (total 10 columns):\n",
      " #   Column            Non-Null Count  Dtype  \n",
      "---  ------            --------------  -----  \n",
      " 0   Code Postal       36742 non-null  object \n",
      " 1   Commune           36742 non-null  object \n",
      " 2   Département       36742 non-null  object \n",
      " 3   Région            36742 non-null  object \n",
      " 4   Statut            36742 non-null  object \n",
      " 5   Altitude Moyenne  36742 non-null  float64\n",
      " 6   Superficie        36742 non-null  float64\n",
      " 7   Population        36742 non-null  float64\n",
      " 8   geo_point_2d      36742 non-null  object \n",
      " 9   geo_shape         36742 non-null  object \n",
      "dtypes: float64(3), object(7)\n",
      "memory usage: 3.1+ MB\n"
     ]
    }
   ],
   "source": [
    "df.info()"
   ]
  },
  {
   "cell_type": "code",
   "execution_count": 11,
   "id": "04aa985d-73f0-4de1-83b7-f44ff7693668",
   "metadata": {},
   "outputs": [
    {
     "data": {
      "text/plain": [
       "101"
      ]
     },
     "execution_count": 11,
     "metadata": {},
     "output_type": "execute_result"
    }
   ],
   "source": [
    "df[\"Département\"].nunique()"
   ]
  },
  {
   "cell_type": "code",
   "execution_count": 12,
   "id": "5b971321-d97a-4bcf-bd59-a7332552c3ed",
   "metadata": {},
   "outputs": [
    {
     "data": {
      "text/plain": [
       "Code Postal          6101\n",
       "Commune             34130\n",
       "Département           101\n",
       "Région                 27\n",
       "Statut                  6\n",
       "Altitude Moyenne     1652\n",
       "Superficie           5246\n",
       "Population            509\n",
       "geo_point_2d        36742\n",
       "geo_shape           36742\n",
       "dtype: int64"
      ]
     },
     "execution_count": 12,
     "metadata": {},
     "output_type": "execute_result"
    }
   ],
   "source": [
    "df.nunique()"
   ]
  },
  {
   "cell_type": "code",
   "execution_count": 15,
   "id": "79222afa-e946-4cb3-b70a-a445380a50fd",
   "metadata": {},
   "outputs": [
    {
     "data": {
      "text/plain": [
       "Code INSEE\n",
       "73047    BONNEVAL-SUR-ARC\n",
       "Name: Commune, dtype: object"
      ]
     },
     "execution_count": 15,
     "metadata": {},
     "output_type": "execute_result"
    }
   ],
   "source": [
    "df.loc[df[\"Altitude Moyenne\"]==df[\"Altitude Moyenne\"].max(), \"Commune\"]"
   ]
  },
  {
   "cell_type": "code",
   "execution_count": 16,
   "id": "edbb4530-9d24-4c7e-bfde-16397a445406",
   "metadata": {},
   "outputs": [
    {
     "data": {
      "text/plain": [
       "'BONNEVAL-SUR-ARC'"
      ]
     },
     "execution_count": 16,
     "metadata": {},
     "output_type": "execute_result"
    }
   ],
   "source": [
    "df.loc[df[\"Altitude Moyenne\"].idxmax(), \"Commune\"]"
   ]
  },
  {
   "cell_type": "code",
   "execution_count": 17,
   "id": "213b1b76-e9bf-4dfd-b82e-9cc12048ce83",
   "metadata": {},
   "outputs": [
    {
     "data": {
      "text/plain": [
       "'TOULOUSE'"
      ]
     },
     "execution_count": 17,
     "metadata": {},
     "output_type": "execute_result"
    }
   ],
   "source": [
    "df.loc[df[\"Population\"].idxmax(), \"Commune\"]"
   ]
  },
  {
   "cell_type": "code",
   "execution_count": 21,
   "id": "a87c6778-9598-47f3-b182-24e0ba03b785",
   "metadata": {},
   "outputs": [
    {
     "data": {
      "text/plain": [
       "'Y'"
      ]
     },
     "execution_count": 21,
     "metadata": {},
     "output_type": "execute_result"
    }
   ],
   "source": [
    "df.loc[df[\"Commune\"].str.len().idxmin(), \"Commune\"]"
   ]
  },
  {
   "cell_type": "code",
   "execution_count": 22,
   "id": "fc1f1a4c-ad12-41f3-a8a9-886d061b0802",
   "metadata": {},
   "outputs": [
    {
     "data": {
      "text/plain": [
       "'SAINT-REMY-EN-BOUZEMONT-SAINT-GENEST-ET-ISSON'"
      ]
     },
     "execution_count": 22,
     "metadata": {},
     "output_type": "execute_result"
    }
   ],
   "source": [
    "df.loc[df[\"Commune\"].str.len().idxmax(), \"Commune\"]"
   ]
  },
  {
   "cell_type": "code",
   "execution_count": 27,
   "id": "96ece45e-1070-4ecf-824c-33237ec97fa4",
   "metadata": {},
   "outputs": [
    {
     "data": {
      "text/plain": [
       "'SAINTE-COLOMBE'"
      ]
     },
     "execution_count": 27,
     "metadata": {},
     "output_type": "execute_result"
    }
   ],
   "source": [
    "df[\"Commune\"].value_counts().index[0]"
   ]
  },
  {
   "cell_type": "code",
   "execution_count": 28,
   "id": "699ede05-1eab-4882-937b-9d273cbd1c8e",
   "metadata": {},
   "outputs": [
    {
     "name": "stdout",
     "output_type": "stream",
     "text": [
      "6.13 ms ± 432 μs per loop (mean ± std. dev. of 7 runs, 100 loops each)\n"
     ]
    }
   ],
   "source": [
    "%timeit df[\"Commune\"].value_counts().index[0]"
   ]
  },
  {
   "cell_type": "code",
   "execution_count": 30,
   "id": "91056a33-0c03-4e2c-97ce-bf4925e34c32",
   "metadata": {},
   "outputs": [
    {
     "name": "stdout",
     "output_type": "stream",
     "text": [
      "6.32 ms ± 736 μs per loop (mean ± std. dev. of 7 runs, 100 loops each)\n"
     ]
    }
   ],
   "source": [
    "%timeit df[\"Commune\"].value_counts().idxmax()"
   ]
  },
  {
   "cell_type": "code",
   "execution_count": 33,
   "id": "334c3402-6cef-44b2-baa9-e936280ec04a",
   "metadata": {},
   "outputs": [],
   "source": [
    "def selection(mot1, mot2):\n",
    "    pattern = f\"-{mot1}-{mot2}\"\n",
    "    selection = df.loc[df[\"Commune\"].str.endswith(pattern)]\n",
    "    return selection"
   ]
  },
  {
   "cell_type": "code",
   "execution_count": 34,
   "id": "fabdfd99-c65b-4078-9905-a5db6969772a",
   "metadata": {},
   "outputs": [
    {
     "data": {
      "text/html": [
       "<div>\n",
       "<style scoped>\n",
       "    .dataframe tbody tr th:only-of-type {\n",
       "        vertical-align: middle;\n",
       "    }\n",
       "\n",
       "    .dataframe tbody tr th {\n",
       "        vertical-align: top;\n",
       "    }\n",
       "\n",
       "    .dataframe thead th {\n",
       "        text-align: right;\n",
       "    }\n",
       "</style>\n",
       "<table border=\"1\" class=\"dataframe\">\n",
       "  <thead>\n",
       "    <tr style=\"text-align: right;\">\n",
       "      <th></th>\n",
       "      <th>Code Postal</th>\n",
       "      <th>Commune</th>\n",
       "      <th>Département</th>\n",
       "      <th>Région</th>\n",
       "      <th>Statut</th>\n",
       "      <th>Altitude Moyenne</th>\n",
       "      <th>Superficie</th>\n",
       "      <th>Population</th>\n",
       "      <th>geo_point_2d</th>\n",
       "      <th>geo_shape</th>\n",
       "    </tr>\n",
       "    <tr>\n",
       "      <th>Code INSEE</th>\n",
       "      <th></th>\n",
       "      <th></th>\n",
       "      <th></th>\n",
       "      <th></th>\n",
       "      <th></th>\n",
       "      <th></th>\n",
       "      <th></th>\n",
       "      <th></th>\n",
       "      <th></th>\n",
       "      <th></th>\n",
       "    </tr>\n",
       "  </thead>\n",
       "  <tbody>\n",
       "    <tr>\n",
       "      <th>06011</th>\n",
       "      <td>06310</td>\n",
       "      <td>BEAULIEU-SUR-MER</td>\n",
       "      <td>ALPES-MARITIMES</td>\n",
       "      <td>PROVENCE-ALPES-COTE D'AZUR</td>\n",
       "      <td>Commune simple</td>\n",
       "      <td>36.0</td>\n",
       "      <td>108.0</td>\n",
       "      <td>3.7</td>\n",
       "      <td>43.7079039397, 7.33256934881</td>\n",
       "      <td>{\"type\": \"Polygon\", \"coordinates\": [[[7.326789...</td>\n",
       "    </tr>\n",
       "    <tr>\n",
       "      <th>06027</th>\n",
       "      <td>06800</td>\n",
       "      <td>CAGNES-SUR-MER</td>\n",
       "      <td>ALPES-MARITIMES</td>\n",
       "      <td>PROVENCE-ALPES-COTE D'AZUR</td>\n",
       "      <td>Chef-lieu canton</td>\n",
       "      <td>64.0</td>\n",
       "      <td>1821.0</td>\n",
       "      <td>48.0</td>\n",
       "      <td>43.6715162078, 7.15275703379</td>\n",
       "      <td>{\"type\": \"Polygon\", \"coordinates\": [[[7.145493...</td>\n",
       "    </tr>\n",
       "    <tr>\n",
       "      <th>06138</th>\n",
       "      <td>06590</td>\n",
       "      <td>THEOULE-SUR-MER</td>\n",
       "      <td>ALPES-MARITIMES</td>\n",
       "      <td>PROVENCE-ALPES-COTE D'AZUR</td>\n",
       "      <td>Commune simple</td>\n",
       "      <td>130.0</td>\n",
       "      <td>1072.0</td>\n",
       "      <td>1.6</td>\n",
       "      <td>43.4985345439, 6.92965248383</td>\n",
       "      <td>{\"type\": \"Polygon\", \"coordinates\": [[[6.933726...</td>\n",
       "    </tr>\n",
       "    <tr>\n",
       "      <th>06159</th>\n",
       "      <td>06230</td>\n",
       "      <td>VILLEFRANCHE-SUR-MER</td>\n",
       "      <td>ALPES-MARITIMES</td>\n",
       "      <td>PROVENCE-ALPES-COTE D'AZUR</td>\n",
       "      <td>Chef-lieu canton</td>\n",
       "      <td>231.0</td>\n",
       "      <td>492.0</td>\n",
       "      <td>5.8</td>\n",
       "      <td>43.7122153121, 7.32225410533</td>\n",
       "      <td>{\"type\": \"Polygon\", \"coordinates\": [[[7.308745...</td>\n",
       "    </tr>\n",
       "    <tr>\n",
       "      <th>13039</th>\n",
       "      <td>13270</td>\n",
       "      <td>FOS-SUR-MER</td>\n",
       "      <td>BOUCHES-DU-RHONE</td>\n",
       "      <td>PROVENCE-ALPES-COTE D'AZUR</td>\n",
       "      <td>Commune simple</td>\n",
       "      <td>5.0</td>\n",
       "      <td>8868.0</td>\n",
       "      <td>15.5</td>\n",
       "      <td>43.4556812107, 4.90452133912</td>\n",
       "      <td>{\"type\": \"Polygon\", \"coordinates\": [[[4.972215...</td>\n",
       "    </tr>\n",
       "    <tr>\n",
       "      <th>...</th>\n",
       "      <td>...</td>\n",
       "      <td>...</td>\n",
       "      <td>...</td>\n",
       "      <td>...</td>\n",
       "      <td>...</td>\n",
       "      <td>...</td>\n",
       "      <td>...</td>\n",
       "      <td>...</td>\n",
       "      <td>...</td>\n",
       "      <td>...</td>\n",
       "    </tr>\n",
       "    <tr>\n",
       "      <th>85166</th>\n",
       "      <td>85340</td>\n",
       "      <td>OLONNE-SUR-MER</td>\n",
       "      <td>VENDEE</td>\n",
       "      <td>PAYS DE LA LOIRE</td>\n",
       "      <td>Commune simple</td>\n",
       "      <td>12.0</td>\n",
       "      <td>4608.0</td>\n",
       "      <td>13.3</td>\n",
       "      <td>46.5413300559, -1.78813984621</td>\n",
       "      <td>{\"type\": \"Polygon\", \"coordinates\": [[[-1.77321...</td>\n",
       "    </tr>\n",
       "    <tr>\n",
       "      <th>85201</th>\n",
       "      <td>85540</td>\n",
       "      <td>SAINT-BENOIST-SUR-MER</td>\n",
       "      <td>VENDEE</td>\n",
       "      <td>PAYS DE LA LOIRE</td>\n",
       "      <td>Commune simple</td>\n",
       "      <td>9.0</td>\n",
       "      <td>1556.0</td>\n",
       "      <td>0.3</td>\n",
       "      <td>46.4266286403, -1.3399129604</td>\n",
       "      <td>{\"type\": \"Polygon\", \"coordinates\": [[[-1.31773...</td>\n",
       "    </tr>\n",
       "    <tr>\n",
       "      <th>85243</th>\n",
       "      <td>85470</td>\n",
       "      <td>BREM-SUR-MER</td>\n",
       "      <td>VENDEE</td>\n",
       "      <td>PAYS DE LA LOIRE</td>\n",
       "      <td>Commune simple</td>\n",
       "      <td>27.0</td>\n",
       "      <td>1616.0</td>\n",
       "      <td>2.6</td>\n",
       "      <td>46.6118566989, -1.81003917923</td>\n",
       "      <td>{\"type\": \"Polygon\", \"coordinates\": [[[-1.81551...</td>\n",
       "    </tr>\n",
       "    <tr>\n",
       "      <th>85294</th>\n",
       "      <td>85360</td>\n",
       "      <td>LA TRANCHE-SUR-MER</td>\n",
       "      <td>VENDEE</td>\n",
       "      <td>PAYS DE LA LOIRE</td>\n",
       "      <td>Commune simple</td>\n",
       "      <td>5.0</td>\n",
       "      <td>2103.0</td>\n",
       "      <td>2.7</td>\n",
       "      <td>46.3564601605, -1.43136322126</td>\n",
       "      <td>{\"type\": \"Polygon\", \"coordinates\": [[[-1.35516...</td>\n",
       "    </tr>\n",
       "    <tr>\n",
       "      <th>85307</th>\n",
       "      <td>85460</td>\n",
       "      <td>LA FAUTE-SUR-MER</td>\n",
       "      <td>VENDEE</td>\n",
       "      <td>PAYS DE LA LOIRE</td>\n",
       "      <td>Commune simple</td>\n",
       "      <td>4.0</td>\n",
       "      <td>726.0</td>\n",
       "      <td>0.9</td>\n",
       "      <td>46.3199919131, -1.31487049579</td>\n",
       "      <td>{\"type\": \"Polygon\", \"coordinates\": [[[-1.30340...</td>\n",
       "    </tr>\n",
       "  </tbody>\n",
       "</table>\n",
       "<p>100 rows × 10 columns</p>\n",
       "</div>"
      ],
      "text/plain": [
       "           Code Postal                Commune       Département  \\\n",
       "Code INSEE                                                        \n",
       "06011            06310       BEAULIEU-SUR-MER   ALPES-MARITIMES   \n",
       "06027            06800         CAGNES-SUR-MER   ALPES-MARITIMES   \n",
       "06138            06590        THEOULE-SUR-MER   ALPES-MARITIMES   \n",
       "06159            06230   VILLEFRANCHE-SUR-MER   ALPES-MARITIMES   \n",
       "13039            13270            FOS-SUR-MER  BOUCHES-DU-RHONE   \n",
       "...                ...                    ...               ...   \n",
       "85166            85340         OLONNE-SUR-MER            VENDEE   \n",
       "85201            85540  SAINT-BENOIST-SUR-MER            VENDEE   \n",
       "85243            85470           BREM-SUR-MER            VENDEE   \n",
       "85294            85360     LA TRANCHE-SUR-MER            VENDEE   \n",
       "85307            85460       LA FAUTE-SUR-MER            VENDEE   \n",
       "\n",
       "                                Région            Statut  Altitude Moyenne  \\\n",
       "Code INSEE                                                                   \n",
       "06011       PROVENCE-ALPES-COTE D'AZUR    Commune simple              36.0   \n",
       "06027       PROVENCE-ALPES-COTE D'AZUR  Chef-lieu canton              64.0   \n",
       "06138       PROVENCE-ALPES-COTE D'AZUR    Commune simple             130.0   \n",
       "06159       PROVENCE-ALPES-COTE D'AZUR  Chef-lieu canton             231.0   \n",
       "13039       PROVENCE-ALPES-COTE D'AZUR    Commune simple               5.0   \n",
       "...                                ...               ...               ...   \n",
       "85166                 PAYS DE LA LOIRE    Commune simple              12.0   \n",
       "85201                 PAYS DE LA LOIRE    Commune simple               9.0   \n",
       "85243                 PAYS DE LA LOIRE    Commune simple              27.0   \n",
       "85294                 PAYS DE LA LOIRE    Commune simple               5.0   \n",
       "85307                 PAYS DE LA LOIRE    Commune simple               4.0   \n",
       "\n",
       "            Superficie  Population                   geo_point_2d  \\\n",
       "Code INSEE                                                          \n",
       "06011            108.0         3.7   43.7079039397, 7.33256934881   \n",
       "06027           1821.0        48.0   43.6715162078, 7.15275703379   \n",
       "06138           1072.0         1.6   43.4985345439, 6.92965248383   \n",
       "06159            492.0         5.8   43.7122153121, 7.32225410533   \n",
       "13039           8868.0        15.5   43.4556812107, 4.90452133912   \n",
       "...                ...         ...                            ...   \n",
       "85166           4608.0        13.3  46.5413300559, -1.78813984621   \n",
       "85201           1556.0         0.3   46.4266286403, -1.3399129604   \n",
       "85243           1616.0         2.6  46.6118566989, -1.81003917923   \n",
       "85294           2103.0         2.7  46.3564601605, -1.43136322126   \n",
       "85307            726.0         0.9  46.3199919131, -1.31487049579   \n",
       "\n",
       "                                                    geo_shape  \n",
       "Code INSEE                                                     \n",
       "06011       {\"type\": \"Polygon\", \"coordinates\": [[[7.326789...  \n",
       "06027       {\"type\": \"Polygon\", \"coordinates\": [[[7.145493...  \n",
       "06138       {\"type\": \"Polygon\", \"coordinates\": [[[6.933726...  \n",
       "06159       {\"type\": \"Polygon\", \"coordinates\": [[[7.308745...  \n",
       "13039       {\"type\": \"Polygon\", \"coordinates\": [[[4.972215...  \n",
       "...                                                       ...  \n",
       "85166       {\"type\": \"Polygon\", \"coordinates\": [[[-1.77321...  \n",
       "85201       {\"type\": \"Polygon\", \"coordinates\": [[[-1.31773...  \n",
       "85243       {\"type\": \"Polygon\", \"coordinates\": [[[-1.81551...  \n",
       "85294       {\"type\": \"Polygon\", \"coordinates\": [[[-1.35516...  \n",
       "85307       {\"type\": \"Polygon\", \"coordinates\": [[[-1.30340...  \n",
       "\n",
       "[100 rows x 10 columns]"
      ]
     },
     "execution_count": 34,
     "metadata": {},
     "output_type": "execute_result"
    }
   ],
   "source": [
    "selection(\"SUR\", \"MER\")"
   ]
  },
  {
   "cell_type": "code",
   "execution_count": 39,
   "id": "e9ea5213-90a6-4a8c-a3bb-3988d0764fe5",
   "metadata": {},
   "outputs": [
    {
     "data": {
      "text/plain": [
       "Code INSEE\n",
       "2A027              AZZANA\n",
       "2A099             COZZANO\n",
       "2A118             FOZZANO\n",
       "2A259               REZZA\n",
       "2A336    VALLE-DI-MEZZANA\n",
       "2B143        LINGUIZZETTA\n",
       "2B147               LOZZI\n",
       "2B149       LUGO-DI-NAZZA\n",
       "2B157             MAZZOLA\n",
       "2B164    MONACIA-D'OREZZA\n",
       "2B216            PIAZZALI\n",
       "2B217            PIAZZOLE\n",
       "2B222        PIE-D'OREZZA\n",
       "2B236     POGGIO-DI-NAZZA\n",
       "2B242      POGGIO-MEZZANA\n",
       "2B291            STAZZONA\n",
       "2B338      VALLE-D'OREZZA\n",
       "2B347             VEZZANI\n",
       "68030       BERGHOLTZZELL\n",
       "Name: Commune, dtype: object"
      ]
     },
     "execution_count": 39,
     "metadata": {},
     "output_type": "execute_result"
    }
   ],
   "source": [
    "df.loc[df[\"Commune\"].str.contains(\"ZZ\"), \"Commune\"]"
   ]
  },
  {
   "cell_type": "code",
   "execution_count": 38,
   "id": "bc41fdb6-b911-4386-9e1e-a2d6daae4296",
   "metadata": {},
   "outputs": [
    {
     "data": {
      "text/plain": [
       "Code INSEE\n",
       "2A363                   ZOZA\n",
       "43261               VEZEZOUX\n",
       "71174    DEZIZE-LES-MARANGES\n",
       "Name: Commune, dtype: object"
      ]
     },
     "execution_count": 38,
     "metadata": {},
     "output_type": "execute_result"
    }
   ],
   "source": [
    "df.loc[df[\"Commune\"].str.contains(\"Z.Z\"), \"Commune\"]"
   ]
  },
  {
   "cell_type": "code",
   "execution_count": 40,
   "id": "24645d87-7844-4c28-ac73-6a3b1f573424",
   "metadata": {},
   "outputs": [
    {
     "data": {
      "text/plain": [
       "Code INSEE\n",
       "07161    MONTPEZAT-SOUS-BAUZON\n",
       "09105       DAUMAZAN-SUR-ARIZE\n",
       "09167           LEZAT-SUR-LEZE\n",
       "11034         BELVEZE-DU-RAZES\n",
       "11228      MAZEROLLES-DU-RAZES\n",
       "                 ...          \n",
       "74311           VIUZ-EN-SALLAZ\n",
       "78337            LIMETZ-VILLEZ\n",
       "88404      ROZIERES-SUR-MOUZON\n",
       "95282               GOUZANGREZ\n",
       "97608                 DZAOUDZI\n",
       "Name: Commune, Length: 67, dtype: object"
      ]
     },
     "execution_count": 40,
     "metadata": {},
     "output_type": "execute_result"
    }
   ],
   "source": [
    "df.loc[df[\"Commune\"].str.contains(\"Z.*Z\"), \"Commune\"]"
   ]
  },
  {
   "cell_type": "code",
   "execution_count": 41,
   "id": "9c6dce41-ccf1-4582-9979-baab4ec23923",
   "metadata": {},
   "outputs": [
    {
     "data": {
      "text/plain": [
       "Code INSEE\n",
       "07161       MONTPEZAT-SOUS-BAUZON\n",
       "09105          DAUMAZAN-SUR-ARIZE\n",
       "09167              LEZAT-SUR-LEZE\n",
       "11034            BELVEZE-DU-RAZES\n",
       "11228         MAZEROLLES-DU-RAZES\n",
       "11417          VILLARZEL-DU-RAZES\n",
       "12294           VEZINS-DE-LEVEZOU\n",
       "16378                 TAIZE-AIZIE\n",
       "29008            BEUZEC-CAP-SIZUN\n",
       "29176             PLONEVEZ-PORZAY\n",
       "2A026              AZILONE-AMPAZA\n",
       "2A362                       ZONZA\n",
       "2A363                        ZOZA\n",
       "31245               JUZET-D'IZAUT\n",
       "34069         CAZOULS-LES-BEZIERS\n",
       "34279    SAINT-NAZAIRE-DE-LADAREZ\n",
       "34280      SAINT-NAZAIRE-DE-PEZAN\n",
       "34310          THEZAN-LES-BEZIERS\n",
       "42193             ROZIER-EN-DONZY\n",
       "43131             MAZERAT-AUROUZE\n",
       "43261                    VEZEZOUX\n",
       "45026        BAZOCHES-SUR-LE-BETZ\n",
       "45204          MEZIERES-LEZ-CLERY\n",
       "45245          OUZOUER-SUR-TREZEE\n",
       "47006          ALLEZ-ET-CAZENEUVE\n",
       "54129           CIREY-SUR-VEZOUZE\n",
       "54161         DOMEVRE-SUR-VEZOUZE\n",
       "55024      AZANNES-ET-SOUMAZANNES\n",
       "55178          ERIZE-SAINT-DIZIER\n",
       "56090           INZINZAC-LOCHRIST\n",
       "57433          MAIZIERES-LES-METZ\n",
       "58116                   FLEZ-CUZY\n",
       "59667                  ZERMEZEELE\n",
       "63435           TOURZEL-RONZIERES\n",
       "64063           ARZACQ-ARRAZIGUET\n",
       "64373              MAZERES-LEZONS\n",
       "65020           ARCIZAC-EZ-ANGLES\n",
       "65203               GEZ-EZ-ANGLES\n",
       "67347       OBERMODERN-ZUTZENDORF\n",
       "69052           CHAZAY-D'AZERGUES\n",
       "69229     SAINT-NIZIER-D'AZERGUES\n",
       "71174         DEZIZE-LES-MARANGES\n",
       "74310             VIUZ-LA-CHIESAZ\n",
       "74311              VIUZ-EN-SALLAZ\n",
       "78337               LIMETZ-VILLEZ\n",
       "88404         ROZIERES-SUR-MOUZON\n",
       "95282                  GOUZANGREZ\n",
       "97608                    DZAOUDZI\n",
       "Name: Commune, dtype: object"
      ]
     },
     "execution_count": 41,
     "metadata": {},
     "output_type": "execute_result"
    }
   ],
   "source": [
    "df.loc[df[\"Commune\"].str.contains(\"Z.+Z\"), \"Commune\"]"
   ]
  },
  {
   "cell_type": "code",
   "execution_count": 45,
   "id": "d330a885-257f-466d-a32e-1067d23387e6",
   "metadata": {},
   "outputs": [
    {
     "data": {
      "text/plain": [
       "Commune\n",
       "-SUR-MER         88\n",
       "-SUR-SEINE       67\n",
       "-SUR-MARNE       55\n",
       "-LES-BAINS       53\n",
       "-LE-CHATEAU      52\n",
       "-SUR-LOIRE       52\n",
       "-LE-SEC          45\n",
       "-LE-GRAND        43\n",
       "-SUR-MEUSE       42\n",
       "-SAINT-MARTIN    41\n",
       "Name: count, dtype: int64"
      ]
     },
     "execution_count": 45,
     "metadata": {},
     "output_type": "execute_result"
    }
   ],
   "source": [
    "df[\"Commune\"].str.extract(\"(-.+-.+)$\", expand=False).value_counts().head(10)"
   ]
  },
  {
   "cell_type": "code",
   "execution_count": 46,
   "id": "9d654b4e-2c15-4dde-9747-63c31870c4e4",
   "metadata": {},
   "outputs": [
    {
     "data": {
      "text/html": [
       "<div>\n",
       "<style scoped>\n",
       "    .dataframe tbody tr th:only-of-type {\n",
       "        vertical-align: middle;\n",
       "    }\n",
       "\n",
       "    .dataframe tbody tr th {\n",
       "        vertical-align: top;\n",
       "    }\n",
       "\n",
       "    .dataframe thead th {\n",
       "        text-align: right;\n",
       "    }\n",
       "</style>\n",
       "<table border=\"1\" class=\"dataframe\">\n",
       "  <thead>\n",
       "    <tr style=\"text-align: right;\">\n",
       "      <th></th>\n",
       "      <th>0</th>\n",
       "      <th>1</th>\n",
       "    </tr>\n",
       "    <tr>\n",
       "      <th>Code INSEE</th>\n",
       "      <th></th>\n",
       "      <th></th>\n",
       "    </tr>\n",
       "  </thead>\n",
       "  <tbody>\n",
       "    <tr>\n",
       "      <th>01001</th>\n",
       "      <td>NaN</td>\n",
       "      <td>NaN</td>\n",
       "    </tr>\n",
       "    <tr>\n",
       "      <th>01002</th>\n",
       "      <td>DE</td>\n",
       "      <td>VAREY</td>\n",
       "    </tr>\n",
       "    <tr>\n",
       "      <th>01004</th>\n",
       "      <td>EN</td>\n",
       "      <td>BUGEY</td>\n",
       "    </tr>\n",
       "    <tr>\n",
       "      <th>01005</th>\n",
       "      <td>EN</td>\n",
       "      <td>DOMBES</td>\n",
       "    </tr>\n",
       "    <tr>\n",
       "      <th>01006</th>\n",
       "      <td>NaN</td>\n",
       "      <td>NaN</td>\n",
       "    </tr>\n",
       "    <tr>\n",
       "      <th>...</th>\n",
       "      <td>...</td>\n",
       "      <td>...</td>\n",
       "    </tr>\n",
       "    <tr>\n",
       "      <th>97613</th>\n",
       "      <td>NaN</td>\n",
       "      <td>NaN</td>\n",
       "    </tr>\n",
       "    <tr>\n",
       "      <th>97614</th>\n",
       "      <td>NaN</td>\n",
       "      <td>NaN</td>\n",
       "    </tr>\n",
       "    <tr>\n",
       "      <th>97615</th>\n",
       "      <td>NaN</td>\n",
       "      <td>NaN</td>\n",
       "    </tr>\n",
       "    <tr>\n",
       "      <th>97616</th>\n",
       "      <td>NaN</td>\n",
       "      <td>NaN</td>\n",
       "    </tr>\n",
       "    <tr>\n",
       "      <th>97617</th>\n",
       "      <td>NaN</td>\n",
       "      <td>NaN</td>\n",
       "    </tr>\n",
       "  </tbody>\n",
       "</table>\n",
       "<p>36742 rows × 2 columns</p>\n",
       "</div>"
      ],
      "text/plain": [
       "              0       1\n",
       "Code INSEE             \n",
       "01001       NaN     NaN\n",
       "01002        DE   VAREY\n",
       "01004        EN   BUGEY\n",
       "01005        EN  DOMBES\n",
       "01006       NaN     NaN\n",
       "...         ...     ...\n",
       "97613       NaN     NaN\n",
       "97614       NaN     NaN\n",
       "97615       NaN     NaN\n",
       "97616       NaN     NaN\n",
       "97617       NaN     NaN\n",
       "\n",
       "[36742 rows x 2 columns]"
      ]
     },
     "execution_count": 46,
     "metadata": {},
     "output_type": "execute_result"
    }
   ],
   "source": [
    "df[\"Commune\"].str.extract(\"-(.+)-(.+)$\")"
   ]
  },
  {
   "cell_type": "code",
   "execution_count": 51,
   "id": "89b45228-fe6c-4bdb-bad5-1398282101ad",
   "metadata": {},
   "outputs": [],
   "source": [
    "df[\"Superficie\"] /= 100"
   ]
  },
  {
   "cell_type": "code",
   "execution_count": 52,
   "id": "28b32d3a-19b5-40a8-8c5d-98f75668beeb",
   "metadata": {},
   "outputs": [
    {
     "data": {
      "text/plain": [
       "Code INSEE\n",
       "01001    15.65\n",
       "01002     9.12\n",
       "01004    24.48\n",
       "01005    16.05\n",
       "01006     6.02\n",
       "         ...  \n",
       "97613    21.55\n",
       "97614    18.28\n",
       "97615     4.26\n",
       "97616    10.85\n",
       "97617    34.26\n",
       "Name: Superficie, Length: 36742, dtype: float64"
      ]
     },
     "execution_count": 52,
     "metadata": {},
     "output_type": "execute_result"
    }
   ],
   "source": [
    "df[\"Superficie\"]"
   ]
  },
  {
   "cell_type": "code",
   "execution_count": 54,
   "id": "7e3d0f60-5c1b-4a14-af53-640a3b2db8e4",
   "metadata": {},
   "outputs": [
    {
     "data": {
      "text/plain": [
       "Code INSEE\n",
       "01001    242\n",
       "01002    483\n",
       "01004    379\n",
       "01005    290\n",
       "01006    589\n",
       "        ... \n",
       "97613     96\n",
       "97614    175\n",
       "97615     52\n",
       "97616    130\n",
       "97617    147\n",
       "Name: Altitude Moyenne, Length: 36742, dtype: int64"
      ]
     },
     "execution_count": 54,
     "metadata": {},
     "output_type": "execute_result"
    }
   ],
   "source": [
    "df[\"Altitude Moyenne\"] = df[\"Altitude Moyenne\"].astype(int)\n",
    "df[\"Altitude Moyenne\"]"
   ]
  },
  {
   "cell_type": "code",
   "execution_count": 56,
   "id": "f3ba2571-a57f-400a-b917-a04dc35df6dd",
   "metadata": {},
   "outputs": [
    {
     "data": {
      "text/plain": [
       "array(['Commune simple', 'Chef-lieu canton', 'Sous-préfecture',\n",
       "       'Préfecture', 'Préfecture de région', \"Capitale d'état\"],\n",
       "      dtype=object)"
      ]
     },
     "execution_count": 56,
     "metadata": {},
     "output_type": "execute_result"
    }
   ],
   "source": [
    "df[\"Statut\"].unique()"
   ]
  },
  {
   "cell_type": "code",
   "execution_count": 57,
   "id": "4d81a863-85a0-4303-92bd-61c440857876",
   "metadata": {},
   "outputs": [
    {
     "name": "stdout",
     "output_type": "stream",
     "text": [
      "8.79 ms ± 435 μs per loop (mean ± std. dev. of 7 runs, 100 loops each)\n"
     ]
    }
   ],
   "source": [
    "%timeit df.loc[df[\"Statut\"] == 'Commune simple']"
   ]
  },
  {
   "cell_type": "code",
   "execution_count": 58,
   "id": "71d7915a-7ba0-424b-8fca-f356913ef47d",
   "metadata": {},
   "outputs": [
    {
     "name": "stdout",
     "output_type": "stream",
     "text": [
      "<class 'pandas.core.frame.DataFrame'>\n",
      "Index: 36742 entries, 01001 to 97617\n",
      "Data columns (total 10 columns):\n",
      " #   Column            Non-Null Count  Dtype  \n",
      "---  ------            --------------  -----  \n",
      " 0   Code Postal       36742 non-null  object \n",
      " 1   Commune           36742 non-null  object \n",
      " 2   Département       36742 non-null  object \n",
      " 3   Région            36742 non-null  object \n",
      " 4   Statut            36742 non-null  object \n",
      " 5   Altitude Moyenne  36742 non-null  int64  \n",
      " 6   Superficie        36742 non-null  float64\n",
      " 7   Population        36742 non-null  float64\n",
      " 8   geo_point_2d      36742 non-null  object \n",
      " 9   geo_shape         36742 non-null  object \n",
      "dtypes: float64(2), int64(1), object(7)\n",
      "memory usage: 4.1+ MB\n"
     ]
    }
   ],
   "source": [
    "df.info()"
   ]
  },
  {
   "cell_type": "code",
   "execution_count": 59,
   "id": "ffe0f003-54c9-4907-a695-a6e4e8d9ecf8",
   "metadata": {},
   "outputs": [
    {
     "name": "stdout",
     "output_type": "stream",
     "text": [
      "<class 'pandas.core.frame.DataFrame'>\n",
      "Index: 36742 entries, 01001 to 97617\n",
      "Data columns (total 10 columns):\n",
      " #   Column            Non-Null Count  Dtype   \n",
      "---  ------            --------------  -----   \n",
      " 0   Code Postal       36742 non-null  object  \n",
      " 1   Commune           36742 non-null  object  \n",
      " 2   Département       36742 non-null  object  \n",
      " 3   Région            36742 non-null  object  \n",
      " 4   Statut            36742 non-null  category\n",
      " 5   Altitude Moyenne  36742 non-null  int64   \n",
      " 6   Superficie        36742 non-null  float64 \n",
      " 7   Population        36742 non-null  float64 \n",
      " 8   geo_point_2d      36742 non-null  object  \n",
      " 9   geo_shape         36742 non-null  object  \n",
      "dtypes: category(1), float64(2), int64(1), object(6)\n",
      "memory usage: 3.8+ MB\n"
     ]
    }
   ],
   "source": [
    "statut_cat = pd.CategoricalDtype(categories=['Commune simple', 'Chef-lieu canton', 'Sous-préfecture',\n",
    "                                             'Préfecture', 'Préfecture de région', \"Capitale d'état\"],\n",
    "                                 ordered=True)\n",
    "df[\"Statut\"] = df[\"Statut\"].astype(statut_cat)\n",
    "df.info()"
   ]
  },
  {
   "cell_type": "code",
   "execution_count": 62,
   "id": "de6e4ac4-5788-4059-aadc-e47f5fa32c84",
   "metadata": {},
   "outputs": [
    {
     "data": {
      "text/plain": [
       "Code INSEE\n",
       "01001    0\n",
       "01002    0\n",
       "01004    1\n",
       "01005    0\n",
       "01006    0\n",
       "        ..\n",
       "97613    1\n",
       "97614    1\n",
       "97615    1\n",
       "97616    1\n",
       "97617    1\n",
       "Length: 36742, dtype: int8"
      ]
     },
     "execution_count": 62,
     "metadata": {},
     "output_type": "execute_result"
    }
   ],
   "source": [
    "df[\"Statut\"].cat.codes"
   ]
  },
  {
   "cell_type": "code",
   "execution_count": 63,
   "id": "558f6e79-68a0-4c02-9f61-4e322fbc59ad",
   "metadata": {},
   "outputs": [
    {
     "name": "stdout",
     "output_type": "stream",
     "text": [
      "5.96 ms ± 102 μs per loop (mean ± std. dev. of 7 runs, 100 loops each)\n"
     ]
    }
   ],
   "source": [
    "%timeit df.loc[df[\"Statut\"] == 'Commune simple']"
   ]
  },
  {
   "cell_type": "code",
   "execution_count": 65,
   "id": "7931f37b-6f64-4443-86f0-99071ba03337",
   "metadata": {},
   "outputs": [
    {
     "name": "stderr",
     "output_type": "stream",
     "text": [
      "/tmp/ipykernel_5036/3093096956.py:2: SettingWithCopyWarning: \n",
      "A value is trying to be set on a copy of a slice from a DataFrame.\n",
      "Try using .loc[row_indexer,col_indexer] = value instead\n",
      "\n",
      "See the caveats in the documentation: https://pandas.pydata.org/pandas-docs/stable/user_guide/indexing.html#returning-a-view-versus-a-copy\n",
      "  var[\"Population\"] = var[\"Population\"].astype(int)\n"
     ]
    }
   ],
   "source": [
    "var = df.loc[df[\"Commune\"].str.startswith(\"A\")]\n",
    "var[\"Population\"] = var[\"Population\"].astype(int)"
   ]
  },
  {
   "cell_type": "code",
   "execution_count": 66,
   "id": "91e5f9ec-2766-45dd-b062-40f4f5a70880",
   "metadata": {},
   "outputs": [
    {
     "data": {
      "text/html": [
       "<div>\n",
       "<style scoped>\n",
       "    .dataframe tbody tr th:only-of-type {\n",
       "        vertical-align: middle;\n",
       "    }\n",
       "\n",
       "    .dataframe tbody tr th {\n",
       "        vertical-align: top;\n",
       "    }\n",
       "\n",
       "    .dataframe thead th {\n",
       "        text-align: right;\n",
       "    }\n",
       "</style>\n",
       "<table border=\"1\" class=\"dataframe\">\n",
       "  <thead>\n",
       "    <tr style=\"text-align: right;\">\n",
       "      <th></th>\n",
       "      <th>Code Postal</th>\n",
       "      <th>Commune</th>\n",
       "      <th>Département</th>\n",
       "      <th>Région</th>\n",
       "      <th>Statut</th>\n",
       "      <th>Altitude Moyenne</th>\n",
       "      <th>Superficie</th>\n",
       "      <th>Population</th>\n",
       "      <th>geo_point_2d</th>\n",
       "      <th>geo_shape</th>\n",
       "      <th>CP Ville</th>\n",
       "    </tr>\n",
       "    <tr>\n",
       "      <th>Code INSEE</th>\n",
       "      <th></th>\n",
       "      <th></th>\n",
       "      <th></th>\n",
       "      <th></th>\n",
       "      <th></th>\n",
       "      <th></th>\n",
       "      <th></th>\n",
       "      <th></th>\n",
       "      <th></th>\n",
       "      <th></th>\n",
       "      <th></th>\n",
       "    </tr>\n",
       "  </thead>\n",
       "  <tbody>\n",
       "    <tr>\n",
       "      <th>01001</th>\n",
       "      <td>01400</td>\n",
       "      <td>L'ABERGEMENT-CLEMENCIAT</td>\n",
       "      <td>AIN</td>\n",
       "      <td>RHONE-ALPES</td>\n",
       "      <td>Commune simple</td>\n",
       "      <td>242</td>\n",
       "      <td>15.65</td>\n",
       "      <td>0.8</td>\n",
       "      <td>46.1534255214, 4.92611354223</td>\n",
       "      <td>{\"type\": \"Polygon\", \"coordinates\": [[[4.926273...</td>\n",
       "      <td>01400 L'ABERGEMENT-CLEMENCIAT</td>\n",
       "    </tr>\n",
       "    <tr>\n",
       "      <th>01002</th>\n",
       "      <td>01640</td>\n",
       "      <td>L'ABERGEMENT-DE-VAREY</td>\n",
       "      <td>AIN</td>\n",
       "      <td>RHONE-ALPES</td>\n",
       "      <td>Commune simple</td>\n",
       "      <td>483</td>\n",
       "      <td>9.12</td>\n",
       "      <td>0.2</td>\n",
       "      <td>46.0091878776, 5.42801696363</td>\n",
       "      <td>{\"type\": \"Polygon\", \"coordinates\": [[[5.430089...</td>\n",
       "      <td>01640 L'ABERGEMENT-DE-VAREY</td>\n",
       "    </tr>\n",
       "    <tr>\n",
       "      <th>01004</th>\n",
       "      <td>01500</td>\n",
       "      <td>AMBERIEU-EN-BUGEY</td>\n",
       "      <td>AIN</td>\n",
       "      <td>RHONE-ALPES</td>\n",
       "      <td>Chef-lieu canton</td>\n",
       "      <td>379</td>\n",
       "      <td>24.48</td>\n",
       "      <td>13.4</td>\n",
       "      <td>45.9608475114, 5.3729257777</td>\n",
       "      <td>{\"type\": \"Polygon\", \"coordinates\": [[[5.386190...</td>\n",
       "      <td>01500 AMBERIEU-EN-BUGEY</td>\n",
       "    </tr>\n",
       "    <tr>\n",
       "      <th>01005</th>\n",
       "      <td>01330</td>\n",
       "      <td>AMBERIEUX-EN-DOMBES</td>\n",
       "      <td>AIN</td>\n",
       "      <td>RHONE-ALPES</td>\n",
       "      <td>Commune simple</td>\n",
       "      <td>290</td>\n",
       "      <td>16.05</td>\n",
       "      <td>1.6</td>\n",
       "      <td>45.9961799872, 4.91227250796</td>\n",
       "      <td>{\"type\": \"Polygon\", \"coordinates\": [[[4.895580...</td>\n",
       "      <td>01330 AMBERIEUX-EN-DOMBES</td>\n",
       "    </tr>\n",
       "    <tr>\n",
       "      <th>01006</th>\n",
       "      <td>01300</td>\n",
       "      <td>AMBLEON</td>\n",
       "      <td>AIN</td>\n",
       "      <td>RHONE-ALPES</td>\n",
       "      <td>Commune simple</td>\n",
       "      <td>589</td>\n",
       "      <td>6.02</td>\n",
       "      <td>0.1</td>\n",
       "      <td>45.7494989044, 5.59432017366</td>\n",
       "      <td>{\"type\": \"Polygon\", \"coordinates\": [[[5.614854...</td>\n",
       "      <td>01300 AMBLEON</td>\n",
       "    </tr>\n",
       "    <tr>\n",
       "      <th>...</th>\n",
       "      <td>...</td>\n",
       "      <td>...</td>\n",
       "      <td>...</td>\n",
       "      <td>...</td>\n",
       "      <td>...</td>\n",
       "      <td>...</td>\n",
       "      <td>...</td>\n",
       "      <td>...</td>\n",
       "      <td>...</td>\n",
       "      <td>...</td>\n",
       "      <td>...</td>\n",
       "    </tr>\n",
       "    <tr>\n",
       "      <th>97613</th>\n",
       "      <td>97650</td>\n",
       "      <td>M'TSANGAMOUJI</td>\n",
       "      <td>MAYOTTE</td>\n",
       "      <td>MAYOTTE</td>\n",
       "      <td>Chef-lieu canton</td>\n",
       "      <td>96</td>\n",
       "      <td>21.55</td>\n",
       "      <td>5.0</td>\n",
       "      <td>-12.7513099309, 45.0871696871</td>\n",
       "      <td>{\"type\": \"Polygon\", \"coordinates\": [[[45.10168...</td>\n",
       "      <td>97650 M'TSANGAMOUJI</td>\n",
       "    </tr>\n",
       "    <tr>\n",
       "      <th>97614</th>\n",
       "      <td>97670</td>\n",
       "      <td>OUANGANI</td>\n",
       "      <td>MAYOTTE</td>\n",
       "      <td>MAYOTTE</td>\n",
       "      <td>Chef-lieu canton</td>\n",
       "      <td>175</td>\n",
       "      <td>18.28</td>\n",
       "      <td>6.6</td>\n",
       "      <td>-12.8370955196, 45.1379095497</td>\n",
       "      <td>{\"type\": \"Polygon\", \"coordinates\": [[[45.15401...</td>\n",
       "      <td>97670 OUANGANI</td>\n",
       "    </tr>\n",
       "    <tr>\n",
       "      <th>97615</th>\n",
       "      <td>97610</td>\n",
       "      <td>PAMANDZI</td>\n",
       "      <td>MAYOTTE</td>\n",
       "      <td>MAYOTTE</td>\n",
       "      <td>Chef-lieu canton</td>\n",
       "      <td>52</td>\n",
       "      <td>4.26</td>\n",
       "      <td>9.1</td>\n",
       "      <td>-12.7961353309, 45.2842063102</td>\n",
       "      <td>{\"type\": \"Polygon\", \"coordinates\": [[[45.29645...</td>\n",
       "      <td>97610 PAMANDZI</td>\n",
       "    </tr>\n",
       "    <tr>\n",
       "      <th>97616</th>\n",
       "      <td>97640</td>\n",
       "      <td>SADA</td>\n",
       "      <td>MAYOTTE</td>\n",
       "      <td>MAYOTTE</td>\n",
       "      <td>Chef-lieu canton</td>\n",
       "      <td>130</td>\n",
       "      <td>10.85</td>\n",
       "      <td>8.0</td>\n",
       "      <td>-12.8611649609, 45.1185503145</td>\n",
       "      <td>{\"type\": \"Polygon\", \"coordinates\": [[[45.13226...</td>\n",
       "      <td>97640 SADA</td>\n",
       "    </tr>\n",
       "    <tr>\n",
       "      <th>97617</th>\n",
       "      <td>97680</td>\n",
       "      <td>TSINGONI</td>\n",
       "      <td>MAYOTTE</td>\n",
       "      <td>MAYOTTE</td>\n",
       "      <td>Chef-lieu canton</td>\n",
       "      <td>147</td>\n",
       "      <td>34.26</td>\n",
       "      <td>9.2</td>\n",
       "      <td>-12.7821666736, 45.1344279083</td>\n",
       "      <td>{\"type\": \"Polygon\", \"coordinates\": [[[45.15256...</td>\n",
       "      <td>97680 TSINGONI</td>\n",
       "    </tr>\n",
       "  </tbody>\n",
       "</table>\n",
       "<p>36742 rows × 11 columns</p>\n",
       "</div>"
      ],
      "text/plain": [
       "           Code Postal                  Commune Département       Région  \\\n",
       "Code INSEE                                                                 \n",
       "01001            01400  L'ABERGEMENT-CLEMENCIAT         AIN  RHONE-ALPES   \n",
       "01002            01640    L'ABERGEMENT-DE-VAREY         AIN  RHONE-ALPES   \n",
       "01004            01500        AMBERIEU-EN-BUGEY         AIN  RHONE-ALPES   \n",
       "01005            01330      AMBERIEUX-EN-DOMBES         AIN  RHONE-ALPES   \n",
       "01006            01300                  AMBLEON         AIN  RHONE-ALPES   \n",
       "...                ...                      ...         ...          ...   \n",
       "97613            97650            M'TSANGAMOUJI     MAYOTTE      MAYOTTE   \n",
       "97614            97670                 OUANGANI     MAYOTTE      MAYOTTE   \n",
       "97615            97610                 PAMANDZI     MAYOTTE      MAYOTTE   \n",
       "97616            97640                     SADA     MAYOTTE      MAYOTTE   \n",
       "97617            97680                 TSINGONI     MAYOTTE      MAYOTTE   \n",
       "\n",
       "                      Statut  Altitude Moyenne  Superficie  Population  \\\n",
       "Code INSEE                                                               \n",
       "01001         Commune simple               242       15.65         0.8   \n",
       "01002         Commune simple               483        9.12         0.2   \n",
       "01004       Chef-lieu canton               379       24.48        13.4   \n",
       "01005         Commune simple               290       16.05         1.6   \n",
       "01006         Commune simple               589        6.02         0.1   \n",
       "...                      ...               ...         ...         ...   \n",
       "97613       Chef-lieu canton                96       21.55         5.0   \n",
       "97614       Chef-lieu canton               175       18.28         6.6   \n",
       "97615       Chef-lieu canton                52        4.26         9.1   \n",
       "97616       Chef-lieu canton               130       10.85         8.0   \n",
       "97617       Chef-lieu canton               147       34.26         9.2   \n",
       "\n",
       "                             geo_point_2d  \\\n",
       "Code INSEE                                  \n",
       "01001        46.1534255214, 4.92611354223   \n",
       "01002        46.0091878776, 5.42801696363   \n",
       "01004         45.9608475114, 5.3729257777   \n",
       "01005        45.9961799872, 4.91227250796   \n",
       "01006        45.7494989044, 5.59432017366   \n",
       "...                                   ...   \n",
       "97613       -12.7513099309, 45.0871696871   \n",
       "97614       -12.8370955196, 45.1379095497   \n",
       "97615       -12.7961353309, 45.2842063102   \n",
       "97616       -12.8611649609, 45.1185503145   \n",
       "97617       -12.7821666736, 45.1344279083   \n",
       "\n",
       "                                                    geo_shape  \\\n",
       "Code INSEE                                                      \n",
       "01001       {\"type\": \"Polygon\", \"coordinates\": [[[4.926273...   \n",
       "01002       {\"type\": \"Polygon\", \"coordinates\": [[[5.430089...   \n",
       "01004       {\"type\": \"Polygon\", \"coordinates\": [[[5.386190...   \n",
       "01005       {\"type\": \"Polygon\", \"coordinates\": [[[4.895580...   \n",
       "01006       {\"type\": \"Polygon\", \"coordinates\": [[[5.614854...   \n",
       "...                                                       ...   \n",
       "97613       {\"type\": \"Polygon\", \"coordinates\": [[[45.10168...   \n",
       "97614       {\"type\": \"Polygon\", \"coordinates\": [[[45.15401...   \n",
       "97615       {\"type\": \"Polygon\", \"coordinates\": [[[45.29645...   \n",
       "97616       {\"type\": \"Polygon\", \"coordinates\": [[[45.13226...   \n",
       "97617       {\"type\": \"Polygon\", \"coordinates\": [[[45.15256...   \n",
       "\n",
       "                                 CP Ville  \n",
       "Code INSEE                                 \n",
       "01001       01400 L'ABERGEMENT-CLEMENCIAT  \n",
       "01002         01640 L'ABERGEMENT-DE-VAREY  \n",
       "01004             01500 AMBERIEU-EN-BUGEY  \n",
       "01005           01330 AMBERIEUX-EN-DOMBES  \n",
       "01006                       01300 AMBLEON  \n",
       "...                                   ...  \n",
       "97613                 97650 M'TSANGAMOUJI  \n",
       "97614                      97670 OUANGANI  \n",
       "97615                      97610 PAMANDZI  \n",
       "97616                          97640 SADA  \n",
       "97617                      97680 TSINGONI  \n",
       "\n",
       "[36742 rows x 11 columns]"
      ]
     },
     "execution_count": 66,
     "metadata": {},
     "output_type": "execute_result"
    }
   ],
   "source": [
    "df[\"CP Ville\"] = df[\"Code Postal\"] + \" \" + df[\"Commune\"]\n",
    "df"
   ]
  },
  {
   "cell_type": "code",
   "execution_count": 70,
   "id": "8dadecdc-f209-4cc4-94c5-4a72f6ab0d37",
   "metadata": {},
   "outputs": [
    {
     "data": {
      "text/plain": [
       "str"
      ]
     },
     "execution_count": 70,
     "metadata": {},
     "output_type": "execute_result"
    }
   ],
   "source": [
    "type(df[\"geo_point_2d\"].iloc[0])"
   ]
  },
  {
   "cell_type": "code",
   "execution_count": 75,
   "id": "9f1333ca-b638-4b7f-8149-dbd098497c3d",
   "metadata": {},
   "outputs": [
    {
     "data": {
      "text/plain": [
       "46.1534255214"
      ]
     },
     "execution_count": 75,
     "metadata": {},
     "output_type": "execute_result"
    }
   ],
   "source": [
    "float(df[\"geo_point_2d\"].iloc[0].split(', ')[0])"
   ]
  },
  {
   "cell_type": "code",
   "execution_count": 77,
   "id": "d97a3020-7b72-4706-b491-091d7aaf84f4",
   "metadata": {},
   "outputs": [
    {
     "data": {
      "text/plain": [
       "Code INSEE\n",
       "01001    46.153426\n",
       "01002    46.009188\n",
       "01004    45.960848\n",
       "01005    45.996180\n",
       "01006    45.749499\n",
       "           ...    \n",
       "97613   -12.751310\n",
       "97614   -12.837096\n",
       "97615   -12.796135\n",
       "97616   -12.861165\n",
       "97617   -12.782167\n",
       "Name: geo_point_2d, Length: 36742, dtype: float64"
      ]
     },
     "execution_count": 77,
     "metadata": {},
     "output_type": "execute_result"
    }
   ],
   "source": [
    "df[\"geo_point_2d\"].apply(lambda x: float(x.split(', ')[0]))"
   ]
  },
  {
   "cell_type": "code",
   "execution_count": 78,
   "id": "0a11617a-2a3f-41f0-a66c-5224c681bdf3",
   "metadata": {},
   "outputs": [
    {
     "data": {
      "text/plain": [
       "Code INSEE\n",
       "01001     4.926114\n",
       "01002     5.428017\n",
       "01004     5.372926\n",
       "01005     4.912273\n",
       "01006     5.594320\n",
       "           ...    \n",
       "97613    45.087170\n",
       "97614    45.137910\n",
       "97615    45.284206\n",
       "97616    45.118550\n",
       "97617    45.134428\n",
       "Name: geo_point_2d, Length: 36742, dtype: float64"
      ]
     },
     "execution_count": 78,
     "metadata": {},
     "output_type": "execute_result"
    }
   ],
   "source": [
    "df[\"geo_point_2d\"].apply(lambda x: float(x.split(', ')[1]))"
   ]
  },
  {
   "cell_type": "code",
   "execution_count": 81,
   "id": "6b5dd16d-3e62-4ff6-b679-aba5abe4e7cf",
   "metadata": {},
   "outputs": [
    {
     "name": "stdout",
     "output_type": "stream",
     "text": [
      "<class 'pandas.core.frame.DataFrame'>\n",
      "Index: 36742 entries, 01001 to 97617\n",
      "Data columns (total 13 columns):\n",
      " #   Column            Non-Null Count  Dtype   \n",
      "---  ------            --------------  -----   \n",
      " 0   Code Postal       36742 non-null  object  \n",
      " 1   Commune           36742 non-null  object  \n",
      " 2   Département       36742 non-null  object  \n",
      " 3   Région            36742 non-null  object  \n",
      " 4   Statut            36742 non-null  category\n",
      " 5   Altitude Moyenne  36742 non-null  int64   \n",
      " 6   Superficie        36742 non-null  float64 \n",
      " 7   Population        36742 non-null  float64 \n",
      " 8   geo_point_2d      36742 non-null  object  \n",
      " 9   geo_shape         36742 non-null  object  \n",
      " 10  CP Ville          36742 non-null  object  \n",
      " 11  Latitude          36742 non-null  float64 \n",
      " 12  Longitude         36742 non-null  float64 \n",
      "dtypes: category(1), float64(4), int64(1), object(7)\n",
      "memory usage: 4.7+ MB\n"
     ]
    }
   ],
   "source": [
    "df[[\"Latitude\", \"Longitude\"]] = df[\"geo_point_2d\"].str.extract(\"(.+), (.+)\").astype(float)\n",
    "df.info()"
   ]
  },
  {
   "cell_type": "code",
   "execution_count": 82,
   "id": "93bf6088-c51a-4703-83bf-c5ac2c8ffb63",
   "metadata": {},
   "outputs": [
    {
     "data": {
      "text/html": [
       "<div>\n",
       "<style scoped>\n",
       "    .dataframe tbody tr th:only-of-type {\n",
       "        vertical-align: middle;\n",
       "    }\n",
       "\n",
       "    .dataframe tbody tr th {\n",
       "        vertical-align: top;\n",
       "    }\n",
       "\n",
       "    .dataframe thead th {\n",
       "        text-align: right;\n",
       "    }\n",
       "</style>\n",
       "<table border=\"1\" class=\"dataframe\">\n",
       "  <thead>\n",
       "    <tr style=\"text-align: right;\">\n",
       "      <th></th>\n",
       "      <th>Code Postal</th>\n",
       "      <th>Commune</th>\n",
       "      <th>Département</th>\n",
       "      <th>Région</th>\n",
       "      <th>Statut</th>\n",
       "      <th>Altitude Moyenne</th>\n",
       "      <th>Superficie</th>\n",
       "      <th>Population</th>\n",
       "      <th>geo_point_2d</th>\n",
       "      <th>geo_shape</th>\n",
       "      <th>CP Ville</th>\n",
       "      <th>Latitude</th>\n",
       "      <th>Longitude</th>\n",
       "    </tr>\n",
       "    <tr>\n",
       "      <th>Code INSEE</th>\n",
       "      <th></th>\n",
       "      <th></th>\n",
       "      <th></th>\n",
       "      <th></th>\n",
       "      <th></th>\n",
       "      <th></th>\n",
       "      <th></th>\n",
       "      <th></th>\n",
       "      <th></th>\n",
       "      <th></th>\n",
       "      <th></th>\n",
       "      <th></th>\n",
       "      <th></th>\n",
       "    </tr>\n",
       "  </thead>\n",
       "  <tbody>\n",
       "    <tr>\n",
       "      <th>01001</th>\n",
       "      <td>01400</td>\n",
       "      <td>L'ABERGEMENT-CLEMENCIAT</td>\n",
       "      <td>AIN</td>\n",
       "      <td>RHONE-ALPES</td>\n",
       "      <td>Commune simple</td>\n",
       "      <td>242</td>\n",
       "      <td>15.65</td>\n",
       "      <td>0.8</td>\n",
       "      <td>46.1534255214, 4.92611354223</td>\n",
       "      <td>{\"type\": \"Polygon\", \"coordinates\": [[[4.926273...</td>\n",
       "      <td>01400 L'ABERGEMENT-CLEMENCIAT</td>\n",
       "      <td>46.153426</td>\n",
       "      <td>4.926114</td>\n",
       "    </tr>\n",
       "    <tr>\n",
       "      <th>01002</th>\n",
       "      <td>01640</td>\n",
       "      <td>L'ABERGEMENT-DE-VAREY</td>\n",
       "      <td>AIN</td>\n",
       "      <td>RHONE-ALPES</td>\n",
       "      <td>Commune simple</td>\n",
       "      <td>483</td>\n",
       "      <td>9.12</td>\n",
       "      <td>0.2</td>\n",
       "      <td>46.0091878776, 5.42801696363</td>\n",
       "      <td>{\"type\": \"Polygon\", \"coordinates\": [[[5.430089...</td>\n",
       "      <td>01640 L'ABERGEMENT-DE-VAREY</td>\n",
       "      <td>46.009188</td>\n",
       "      <td>5.428017</td>\n",
       "    </tr>\n",
       "    <tr>\n",
       "      <th>01004</th>\n",
       "      <td>01500</td>\n",
       "      <td>AMBERIEU-EN-BUGEY</td>\n",
       "      <td>AIN</td>\n",
       "      <td>RHONE-ALPES</td>\n",
       "      <td>Chef-lieu canton</td>\n",
       "      <td>379</td>\n",
       "      <td>24.48</td>\n",
       "      <td>13.4</td>\n",
       "      <td>45.9608475114, 5.3729257777</td>\n",
       "      <td>{\"type\": \"Polygon\", \"coordinates\": [[[5.386190...</td>\n",
       "      <td>01500 AMBERIEU-EN-BUGEY</td>\n",
       "      <td>45.960848</td>\n",
       "      <td>5.372926</td>\n",
       "    </tr>\n",
       "    <tr>\n",
       "      <th>01005</th>\n",
       "      <td>01330</td>\n",
       "      <td>AMBERIEUX-EN-DOMBES</td>\n",
       "      <td>AIN</td>\n",
       "      <td>RHONE-ALPES</td>\n",
       "      <td>Commune simple</td>\n",
       "      <td>290</td>\n",
       "      <td>16.05</td>\n",
       "      <td>1.6</td>\n",
       "      <td>45.9961799872, 4.91227250796</td>\n",
       "      <td>{\"type\": \"Polygon\", \"coordinates\": [[[4.895580...</td>\n",
       "      <td>01330 AMBERIEUX-EN-DOMBES</td>\n",
       "      <td>45.996180</td>\n",
       "      <td>4.912273</td>\n",
       "    </tr>\n",
       "    <tr>\n",
       "      <th>01006</th>\n",
       "      <td>01300</td>\n",
       "      <td>AMBLEON</td>\n",
       "      <td>AIN</td>\n",
       "      <td>RHONE-ALPES</td>\n",
       "      <td>Commune simple</td>\n",
       "      <td>589</td>\n",
       "      <td>6.02</td>\n",
       "      <td>0.1</td>\n",
       "      <td>45.7494989044, 5.59432017366</td>\n",
       "      <td>{\"type\": \"Polygon\", \"coordinates\": [[[5.614854...</td>\n",
       "      <td>01300 AMBLEON</td>\n",
       "      <td>45.749499</td>\n",
       "      <td>5.594320</td>\n",
       "    </tr>\n",
       "    <tr>\n",
       "      <th>...</th>\n",
       "      <td>...</td>\n",
       "      <td>...</td>\n",
       "      <td>...</td>\n",
       "      <td>...</td>\n",
       "      <td>...</td>\n",
       "      <td>...</td>\n",
       "      <td>...</td>\n",
       "      <td>...</td>\n",
       "      <td>...</td>\n",
       "      <td>...</td>\n",
       "      <td>...</td>\n",
       "      <td>...</td>\n",
       "      <td>...</td>\n",
       "    </tr>\n",
       "    <tr>\n",
       "      <th>97613</th>\n",
       "      <td>97650</td>\n",
       "      <td>M'TSANGAMOUJI</td>\n",
       "      <td>MAYOTTE</td>\n",
       "      <td>MAYOTTE</td>\n",
       "      <td>Chef-lieu canton</td>\n",
       "      <td>96</td>\n",
       "      <td>21.55</td>\n",
       "      <td>5.0</td>\n",
       "      <td>-12.7513099309, 45.0871696871</td>\n",
       "      <td>{\"type\": \"Polygon\", \"coordinates\": [[[45.10168...</td>\n",
       "      <td>97650 M'TSANGAMOUJI</td>\n",
       "      <td>-12.751310</td>\n",
       "      <td>45.087170</td>\n",
       "    </tr>\n",
       "    <tr>\n",
       "      <th>97614</th>\n",
       "      <td>97670</td>\n",
       "      <td>OUANGANI</td>\n",
       "      <td>MAYOTTE</td>\n",
       "      <td>MAYOTTE</td>\n",
       "      <td>Chef-lieu canton</td>\n",
       "      <td>175</td>\n",
       "      <td>18.28</td>\n",
       "      <td>6.6</td>\n",
       "      <td>-12.8370955196, 45.1379095497</td>\n",
       "      <td>{\"type\": \"Polygon\", \"coordinates\": [[[45.15401...</td>\n",
       "      <td>97670 OUANGANI</td>\n",
       "      <td>-12.837096</td>\n",
       "      <td>45.137910</td>\n",
       "    </tr>\n",
       "    <tr>\n",
       "      <th>97615</th>\n",
       "      <td>97610</td>\n",
       "      <td>PAMANDZI</td>\n",
       "      <td>MAYOTTE</td>\n",
       "      <td>MAYOTTE</td>\n",
       "      <td>Chef-lieu canton</td>\n",
       "      <td>52</td>\n",
       "      <td>4.26</td>\n",
       "      <td>9.1</td>\n",
       "      <td>-12.7961353309, 45.2842063102</td>\n",
       "      <td>{\"type\": \"Polygon\", \"coordinates\": [[[45.29645...</td>\n",
       "      <td>97610 PAMANDZI</td>\n",
       "      <td>-12.796135</td>\n",
       "      <td>45.284206</td>\n",
       "    </tr>\n",
       "    <tr>\n",
       "      <th>97616</th>\n",
       "      <td>97640</td>\n",
       "      <td>SADA</td>\n",
       "      <td>MAYOTTE</td>\n",
       "      <td>MAYOTTE</td>\n",
       "      <td>Chef-lieu canton</td>\n",
       "      <td>130</td>\n",
       "      <td>10.85</td>\n",
       "      <td>8.0</td>\n",
       "      <td>-12.8611649609, 45.1185503145</td>\n",
       "      <td>{\"type\": \"Polygon\", \"coordinates\": [[[45.13226...</td>\n",
       "      <td>97640 SADA</td>\n",
       "      <td>-12.861165</td>\n",
       "      <td>45.118550</td>\n",
       "    </tr>\n",
       "    <tr>\n",
       "      <th>97617</th>\n",
       "      <td>97680</td>\n",
       "      <td>TSINGONI</td>\n",
       "      <td>MAYOTTE</td>\n",
       "      <td>MAYOTTE</td>\n",
       "      <td>Chef-lieu canton</td>\n",
       "      <td>147</td>\n",
       "      <td>34.26</td>\n",
       "      <td>9.2</td>\n",
       "      <td>-12.7821666736, 45.1344279083</td>\n",
       "      <td>{\"type\": \"Polygon\", \"coordinates\": [[[45.15256...</td>\n",
       "      <td>97680 TSINGONI</td>\n",
       "      <td>-12.782167</td>\n",
       "      <td>45.134428</td>\n",
       "    </tr>\n",
       "  </tbody>\n",
       "</table>\n",
       "<p>36742 rows × 13 columns</p>\n",
       "</div>"
      ],
      "text/plain": [
       "           Code Postal                  Commune Département       Région  \\\n",
       "Code INSEE                                                                 \n",
       "01001            01400  L'ABERGEMENT-CLEMENCIAT         AIN  RHONE-ALPES   \n",
       "01002            01640    L'ABERGEMENT-DE-VAREY         AIN  RHONE-ALPES   \n",
       "01004            01500        AMBERIEU-EN-BUGEY         AIN  RHONE-ALPES   \n",
       "01005            01330      AMBERIEUX-EN-DOMBES         AIN  RHONE-ALPES   \n",
       "01006            01300                  AMBLEON         AIN  RHONE-ALPES   \n",
       "...                ...                      ...         ...          ...   \n",
       "97613            97650            M'TSANGAMOUJI     MAYOTTE      MAYOTTE   \n",
       "97614            97670                 OUANGANI     MAYOTTE      MAYOTTE   \n",
       "97615            97610                 PAMANDZI     MAYOTTE      MAYOTTE   \n",
       "97616            97640                     SADA     MAYOTTE      MAYOTTE   \n",
       "97617            97680                 TSINGONI     MAYOTTE      MAYOTTE   \n",
       "\n",
       "                      Statut  Altitude Moyenne  Superficie  Population  \\\n",
       "Code INSEE                                                               \n",
       "01001         Commune simple               242       15.65         0.8   \n",
       "01002         Commune simple               483        9.12         0.2   \n",
       "01004       Chef-lieu canton               379       24.48        13.4   \n",
       "01005         Commune simple               290       16.05         1.6   \n",
       "01006         Commune simple               589        6.02         0.1   \n",
       "...                      ...               ...         ...         ...   \n",
       "97613       Chef-lieu canton                96       21.55         5.0   \n",
       "97614       Chef-lieu canton               175       18.28         6.6   \n",
       "97615       Chef-lieu canton                52        4.26         9.1   \n",
       "97616       Chef-lieu canton               130       10.85         8.0   \n",
       "97617       Chef-lieu canton               147       34.26         9.2   \n",
       "\n",
       "                             geo_point_2d  \\\n",
       "Code INSEE                                  \n",
       "01001        46.1534255214, 4.92611354223   \n",
       "01002        46.0091878776, 5.42801696363   \n",
       "01004         45.9608475114, 5.3729257777   \n",
       "01005        45.9961799872, 4.91227250796   \n",
       "01006        45.7494989044, 5.59432017366   \n",
       "...                                   ...   \n",
       "97613       -12.7513099309, 45.0871696871   \n",
       "97614       -12.8370955196, 45.1379095497   \n",
       "97615       -12.7961353309, 45.2842063102   \n",
       "97616       -12.8611649609, 45.1185503145   \n",
       "97617       -12.7821666736, 45.1344279083   \n",
       "\n",
       "                                                    geo_shape  \\\n",
       "Code INSEE                                                      \n",
       "01001       {\"type\": \"Polygon\", \"coordinates\": [[[4.926273...   \n",
       "01002       {\"type\": \"Polygon\", \"coordinates\": [[[5.430089...   \n",
       "01004       {\"type\": \"Polygon\", \"coordinates\": [[[5.386190...   \n",
       "01005       {\"type\": \"Polygon\", \"coordinates\": [[[4.895580...   \n",
       "01006       {\"type\": \"Polygon\", \"coordinates\": [[[5.614854...   \n",
       "...                                                       ...   \n",
       "97613       {\"type\": \"Polygon\", \"coordinates\": [[[45.10168...   \n",
       "97614       {\"type\": \"Polygon\", \"coordinates\": [[[45.15401...   \n",
       "97615       {\"type\": \"Polygon\", \"coordinates\": [[[45.29645...   \n",
       "97616       {\"type\": \"Polygon\", \"coordinates\": [[[45.13226...   \n",
       "97617       {\"type\": \"Polygon\", \"coordinates\": [[[45.15256...   \n",
       "\n",
       "                                 CP Ville   Latitude  Longitude  \n",
       "Code INSEE                                                       \n",
       "01001       01400 L'ABERGEMENT-CLEMENCIAT  46.153426   4.926114  \n",
       "01002         01640 L'ABERGEMENT-DE-VAREY  46.009188   5.428017  \n",
       "01004             01500 AMBERIEU-EN-BUGEY  45.960848   5.372926  \n",
       "01005           01330 AMBERIEUX-EN-DOMBES  45.996180   4.912273  \n",
       "01006                       01300 AMBLEON  45.749499   5.594320  \n",
       "...                                   ...        ...        ...  \n",
       "97613                 97650 M'TSANGAMOUJI -12.751310  45.087170  \n",
       "97614                      97670 OUANGANI -12.837096  45.137910  \n",
       "97615                      97610 PAMANDZI -12.796135  45.284206  \n",
       "97616                          97640 SADA -12.861165  45.118550  \n",
       "97617                      97680 TSINGONI -12.782167  45.134428  \n",
       "\n",
       "[36742 rows x 13 columns]"
      ]
     },
     "execution_count": 82,
     "metadata": {},
     "output_type": "execute_result"
    }
   ],
   "source": [
    "df"
   ]
  },
  {
   "cell_type": "code",
   "execution_count": 87,
   "id": "5054caa5-e3e9-474a-96de-1b4c2c4869b3",
   "metadata": {},
   "outputs": [],
   "source": [
    "import numpy as np\n",
    "\n",
    "def ville(lat, long):\n",
    "    dist = np.sqrt((df[\"Latitude\"]-lat)**2 + (df[\"Longitude\"]-long)**2)\n",
    "    return df.loc[dist.idxmin(), \"CP Ville\"]"
   ]
  },
  {
   "cell_type": "code",
   "execution_count": 91,
   "id": "e4728085-8f43-4189-aad4-94185b1870ae",
   "metadata": {},
   "outputs": [],
   "source": [
    "def ville2(lat, long):\n",
    "    dist2 = (df[\"Latitude\"]-lat)**2 + (df[\"Longitude\"]-long)**2\n",
    "    return df.loc[dist2.idxmin(), \"CP Ville\"]"
   ]
  },
  {
   "cell_type": "code",
   "execution_count": 85,
   "id": "ebc4909b-7114-4626-8b39-86d33a3ee9e9",
   "metadata": {},
   "outputs": [],
   "source": [
    "def gps2dec(deg, mn, sec):\n",
    "    return deg + mn / 60 + sec / 3600"
   ]
  },
  {
   "cell_type": "code",
   "execution_count": 88,
   "id": "68db2935-b68f-4ec4-b687-d5c0ca11cf2e",
   "metadata": {},
   "outputs": [
    {
     "data": {
      "text/plain": [
       "'67510 OBERSTEINBACH'"
      ]
     },
     "execution_count": 88,
     "metadata": {},
     "output_type": "execute_result"
    }
   ],
   "source": [
    "# 49° 02′ 12″ nord, 7° 41′ 18″ est\n",
    "ville(gps2dec(49, 2, 12), gps2dec(7, 41, 18))"
   ]
  },
  {
   "cell_type": "code",
   "execution_count": 92,
   "id": "c5689330-db78-4765-a430-2dc9743b7aa1",
   "metadata": {},
   "outputs": [
    {
     "data": {
      "text/plain": [
       "'29660 CARANTEC'"
      ]
     },
     "execution_count": 92,
     "metadata": {},
     "output_type": "execute_result"
    }
   ],
   "source": [
    "# 48° 40′ 07″ nord, 3° 54′ 45″ ouest\n",
    "\n",
    "ville2(gps2dec(48, 40, 7), -gps2dec(3, 54, 45))"
   ]
  },
  {
   "cell_type": "markdown",
   "id": "9ca62f9c-386a-4b46-acf3-a85ec4f18e30",
   "metadata": {},
   "source": [
    "### Tests"
   ]
  },
  {
   "cell_type": "code",
   "execution_count": 5,
   "id": "3b7abafc-d0b3-4238-b71b-b1a7f44c1363",
   "metadata": {},
   "outputs": [],
   "source": [
    "# tests unitaires de la fonction lecture_geo\n",
    "\n",
    "import unittest\n",
    "\n",
    "class Session1Test(unittest.TestCase):\n",
    "    \"\"\"\n",
    "    Tests unitaires du chargement du fichier :\n",
    "    correspondance-code-insee-code-postal.csv\n",
    "    \"\"\"\n",
    "        \n",
    "    def test_1_dataframe(self):\n",
    "        df = lecture_geo()\n",
    "        self.assertTrue(isinstance(df, pd.DataFrame))\n",
    "        \n",
    "    def test_2_columns(self):\n",
    "        df = lecture_geo()\n",
    "        self.assertEqual(len(df.columns), 10)\n",
    "        \n",
    "    def test_3_index(self):\n",
    "        df = lecture_geo()\n",
    "        self.assertTrue(isinstance(df.index, pd.Index))\n",
    "        \n",
    "    def test_4_index_name(self):\n",
    "        df = lecture_geo()\n",
    "        self.assertEqual(df.index.name, \"Code INSEE\")\n",
    "        \n",
    "    def test_5_index_sort(self):\n",
    "        df = lecture_geo()\n",
    "        self.assertEqual(df.index.min(), df.index[0])\n",
    "        self.assertEqual(df.index.max(), df.index[-1])"
   ]
  },
  {
   "cell_type": "code",
   "execution_count": 6,
   "id": "d331653b-bbbe-4dd6-9ab8-14c3ff00038c",
   "metadata": {},
   "outputs": [],
   "source": [
    "# fonction run_tests\n",
    "def run_tests():\n",
    "    test_suite = unittest.TestLoader().loadTestsFromTestCase(Session1Test)\n",
    "    runner = unittest.TextTestRunner(verbosity=2)\n",
    "    runner.run(test_suite)"
   ]
  },
  {
   "cell_type": "code",
   "execution_count": 7,
   "id": "8cf0dc25-4baa-4fa4-824f-5dff90486b3b",
   "metadata": {},
   "outputs": [
    {
     "name": "stderr",
     "output_type": "stream",
     "text": [
      "test_1_dataframe (__main__.Session1Test.test_1_dataframe) ... ok\n",
      "test_2_columns (__main__.Session1Test.test_2_columns) ... ok\n",
      "test_3_index (__main__.Session1Test.test_3_index) ... ok\n",
      "test_4_index_name (__main__.Session1Test.test_4_index_name) ... ok\n",
      "test_5_index_sort (__main__.Session1Test.test_5_index_sort) ... ok\n",
      "\n",
      "----------------------------------------------------------------------\n",
      "Ran 5 tests in 1.486s\n",
      "\n",
      "OK\n"
     ]
    }
   ],
   "source": [
    "# run tests\n",
    "run_tests()"
   ]
  }
 ],
 "metadata": {
  "kernelspec": {
   "display_name": "Python 3 (ipykernel)",
   "language": "python",
   "name": "python3"
  },
  "language_info": {
   "codemirror_mode": {
    "name": "ipython",
    "version": 3
   },
   "file_extension": ".py",
   "mimetype": "text/x-python",
   "name": "python",
   "nbconvert_exporter": "python",
   "pygments_lexer": "ipython3",
   "version": "3.11.7"
  }
 },
 "nbformat": 4,
 "nbformat_minor": 5
}
